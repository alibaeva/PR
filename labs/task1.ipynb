{
 "cells": [
  {
   "cell_type": "code",
   "execution_count": 1,
   "metadata": {},
   "outputs": [
    {
     "name": "stdout",
     "output_type": "stream",
     "text": [
      "8 2 9 17 4 10\n",
      "[8, 2, 9, 17, 4, 10]\n",
      "3\n",
      "[2, 4, 8, 9, 10, 17]\n",
      "[17, 10, 9, 8, 4, 2]\n",
      "36\n"
     ]
    }
   ],
   "source": [
    "s=input().split()\n",
    "n=len(s)\n",
    "for x in range(n):\n",
    "    s[x]=int(s[x])\n",
    "print(s)\n",
    "t=int(input()) \n",
    "s.sort()\n",
    "print(s)\n",
    "s.reverse()\n",
    "print(s)\n",
    "res=0\n",
    "for x in range(t):\n",
    "    res=res+s[x]\n",
    "print(res)\n",
    "      "
   ]
  },
  {
   "cell_type": "code",
   "execution_count": null,
   "metadata": {
    "collapsed": true
   },
   "outputs": [],
   "source": []
  }
 ],
 "metadata": {
  "kernelspec": {
   "display_name": "Python 3",
   "language": "python",
   "name": "python3"
  },
  "language_info": {
   "codemirror_mode": {
    "name": "ipython",
    "version": 3
   },
   "file_extension": ".py",
   "mimetype": "text/x-python",
   "name": "python",
   "nbconvert_exporter": "python",
   "pygments_lexer": "ipython3",
   "version": "3.6.3"
  }
 },
 "nbformat": 4,
 "nbformat_minor": 2
}
